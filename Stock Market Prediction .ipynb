{
 "cells": [
  {
   "cell_type": "markdown",
   "metadata": {},
   "source": [
    "###  STEPS:\n",
    "     1. we will collect the data \n",
    "     2. Preproces the data- Train and Test\n",
    "     3. Create an stacked LSTM model \n",
    "     4. Predict the test data and plot the output\n",
    "     5. predict the future prediction"
   ]
  },
  {
   "cell_type": "code",
   "execution_count": 1,
   "metadata": {},
   "outputs": [],
   "source": [
    "import pandas_datareader as pdr\n",
    "import numpy as np"
   ]
  },
  {
   "cell_type": "code",
   "execution_count": 2,
   "metadata": {},
   "outputs": [],
   "source": [
    "df = pdr.get_data_tiingo('AAPL',api_key='9ab123036407606f2ed5adc171865f6988485eca')"
   ]
  },
  {
   "cell_type": "code",
   "execution_count": 3,
   "metadata": {},
   "outputs": [],
   "source": [
    "df.to_csv('APPL.csv',)"
   ]
  },
  {
   "cell_type": "code",
   "execution_count": 4,
   "metadata": {},
   "outputs": [
    {
     "data": {
      "text/html": [
       "<div>\n",
       "<style scoped>\n",
       "    .dataframe tbody tr th:only-of-type {\n",
       "        vertical-align: middle;\n",
       "    }\n",
       "\n",
       "    .dataframe tbody tr th {\n",
       "        vertical-align: top;\n",
       "    }\n",
       "\n",
       "    .dataframe thead th {\n",
       "        text-align: right;\n",
       "    }\n",
       "</style>\n",
       "<table border=\"1\" class=\"dataframe\">\n",
       "  <thead>\n",
       "    <tr style=\"text-align: right;\">\n",
       "      <th></th>\n",
       "      <th></th>\n",
       "      <th>close</th>\n",
       "      <th>high</th>\n",
       "      <th>low</th>\n",
       "      <th>open</th>\n",
       "      <th>volume</th>\n",
       "      <th>adjClose</th>\n",
       "      <th>adjHigh</th>\n",
       "      <th>adjLow</th>\n",
       "      <th>adjOpen</th>\n",
       "      <th>adjVolume</th>\n",
       "      <th>divCash</th>\n",
       "      <th>splitFactor</th>\n",
       "    </tr>\n",
       "    <tr>\n",
       "      <th>symbol</th>\n",
       "      <th>date</th>\n",
       "      <th></th>\n",
       "      <th></th>\n",
       "      <th></th>\n",
       "      <th></th>\n",
       "      <th></th>\n",
       "      <th></th>\n",
       "      <th></th>\n",
       "      <th></th>\n",
       "      <th></th>\n",
       "      <th></th>\n",
       "      <th></th>\n",
       "      <th></th>\n",
       "    </tr>\n",
       "  </thead>\n",
       "  <tbody>\n",
       "    <tr>\n",
       "      <th rowspan=\"5\" valign=\"top\">AAPL</th>\n",
       "      <th>2015-10-19 00:00:00+00:00</th>\n",
       "      <td>111.73</td>\n",
       "      <td>111.750</td>\n",
       "      <td>110.11</td>\n",
       "      <td>110.80</td>\n",
       "      <td>29759153</td>\n",
       "      <td>25.809095</td>\n",
       "      <td>25.813715</td>\n",
       "      <td>25.434883</td>\n",
       "      <td>25.594270</td>\n",
       "      <td>119036612</td>\n",
       "      <td>0.0</td>\n",
       "      <td>1.0</td>\n",
       "    </tr>\n",
       "    <tr>\n",
       "      <th>2015-10-20 00:00:00+00:00</th>\n",
       "      <td>113.77</td>\n",
       "      <td>114.170</td>\n",
       "      <td>110.82</td>\n",
       "      <td>111.34</td>\n",
       "      <td>48967763</td>\n",
       "      <td>26.280326</td>\n",
       "      <td>26.372724</td>\n",
       "      <td>25.598890</td>\n",
       "      <td>25.719007</td>\n",
       "      <td>195871052</td>\n",
       "      <td>0.0</td>\n",
       "      <td>1.0</td>\n",
       "    </tr>\n",
       "    <tr>\n",
       "      <th>2015-10-21 00:00:00+00:00</th>\n",
       "      <td>113.76</td>\n",
       "      <td>115.580</td>\n",
       "      <td>113.70</td>\n",
       "      <td>114.00</td>\n",
       "      <td>42326974</td>\n",
       "      <td>26.278016</td>\n",
       "      <td>26.698427</td>\n",
       "      <td>26.264156</td>\n",
       "      <td>26.333455</td>\n",
       "      <td>169307896</td>\n",
       "      <td>0.0</td>\n",
       "      <td>1.0</td>\n",
       "    </tr>\n",
       "    <tr>\n",
       "      <th>2015-10-22 00:00:00+00:00</th>\n",
       "      <td>115.50</td>\n",
       "      <td>115.500</td>\n",
       "      <td>114.10</td>\n",
       "      <td>114.33</td>\n",
       "      <td>41654089</td>\n",
       "      <td>26.679947</td>\n",
       "      <td>26.679947</td>\n",
       "      <td>26.356554</td>\n",
       "      <td>26.409683</td>\n",
       "      <td>166616356</td>\n",
       "      <td>0.0</td>\n",
       "      <td>1.0</td>\n",
       "    </tr>\n",
       "    <tr>\n",
       "      <th>2015-10-23 00:00:00+00:00</th>\n",
       "      <td>119.08</td>\n",
       "      <td>119.228</td>\n",
       "      <td>116.33</td>\n",
       "      <td>116.70</td>\n",
       "      <td>59366914</td>\n",
       "      <td>27.506910</td>\n",
       "      <td>27.541098</td>\n",
       "      <td>26.871673</td>\n",
       "      <td>26.957142</td>\n",
       "      <td>237467656</td>\n",
       "      <td>0.0</td>\n",
       "      <td>1.0</td>\n",
       "    </tr>\n",
       "  </tbody>\n",
       "</table>\n",
       "</div>"
      ],
      "text/plain": [
       "                                   close     high     low    open    volume  \\\n",
       "symbol date                                                                   \n",
       "AAPL   2015-10-19 00:00:00+00:00  111.73  111.750  110.11  110.80  29759153   \n",
       "       2015-10-20 00:00:00+00:00  113.77  114.170  110.82  111.34  48967763   \n",
       "       2015-10-21 00:00:00+00:00  113.76  115.580  113.70  114.00  42326974   \n",
       "       2015-10-22 00:00:00+00:00  115.50  115.500  114.10  114.33  41654089   \n",
       "       2015-10-23 00:00:00+00:00  119.08  119.228  116.33  116.70  59366914   \n",
       "\n",
       "                                   adjClose    adjHigh     adjLow    adjOpen  \\\n",
       "symbol date                                                                    \n",
       "AAPL   2015-10-19 00:00:00+00:00  25.809095  25.813715  25.434883  25.594270   \n",
       "       2015-10-20 00:00:00+00:00  26.280326  26.372724  25.598890  25.719007   \n",
       "       2015-10-21 00:00:00+00:00  26.278016  26.698427  26.264156  26.333455   \n",
       "       2015-10-22 00:00:00+00:00  26.679947  26.679947  26.356554  26.409683   \n",
       "       2015-10-23 00:00:00+00:00  27.506910  27.541098  26.871673  26.957142   \n",
       "\n",
       "                                  adjVolume  divCash  splitFactor  \n",
       "symbol date                                                        \n",
       "AAPL   2015-10-19 00:00:00+00:00  119036612      0.0          1.0  \n",
       "       2015-10-20 00:00:00+00:00  195871052      0.0          1.0  \n",
       "       2015-10-21 00:00:00+00:00  169307896      0.0          1.0  \n",
       "       2015-10-22 00:00:00+00:00  166616356      0.0          1.0  \n",
       "       2015-10-23 00:00:00+00:00  237467656      0.0          1.0  "
      ]
     },
     "execution_count": 4,
     "metadata": {},
     "output_type": "execute_result"
    }
   ],
   "source": [
    "df.head()"
   ]
  },
  {
   "cell_type": "code",
   "execution_count": 5,
   "metadata": {},
   "outputs": [],
   "source": [
    "df1 = df.reset_index()['close']"
   ]
  },
  {
   "cell_type": "code",
   "execution_count": 6,
   "metadata": {},
   "outputs": [
    {
     "data": {
      "text/plain": [
       "0       111.73\n",
       "1       113.77\n",
       "2       113.76\n",
       "3       115.50\n",
       "4       119.08\n",
       "         ...  \n",
       "1253    116.97\n",
       "1254    124.40\n",
       "1255    121.10\n",
       "1256    121.19\n",
       "1257    120.71\n",
       "Name: close, Length: 1258, dtype: float64"
      ]
     },
     "execution_count": 6,
     "metadata": {},
     "output_type": "execute_result"
    }
   ],
   "source": [
    "df1"
   ]
  },
  {
   "cell_type": "code",
   "execution_count": 7,
   "metadata": {},
   "outputs": [
    {
     "data": {
      "text/plain": [
       "[<matplotlib.lines.Line2D at 0x2960224d2b0>]"
      ]
     },
     "execution_count": 7,
     "metadata": {},
     "output_type": "execute_result"
    },
    {
     "data": {
      "image/png": "[encoded data removed]",
      "text/plain": [
       "<Figure size 432x288 with 1 Axes>"
      ]
     },
     "metadata": {
      "needs_background": "light"
     },
     "output_type": "display_data"
    }
   ],
   "source": [
    "import matplotlib.pyplot as plt\n",
    "plt.plot(df1)"
   ]
  },
  {
   "cell_type": "code",
   "execution_count": 8,
   "metadata": {},
   "outputs": [],
   "source": [
    "import numpy as np \n",
    "from sklearn.preprocessing import MinMaxScaler"
   ]
  },
  {
   "cell_type": "code",
   "execution_count": 9,
   "metadata": {},
   "outputs": [],
   "source": [
    "scaler = MinMaxScaler(feature_range=(0,1))\n",
    "df1 = scaler.fit_transform(np.array(df1).reshape(-1,1))"
   ]
  },
  {
   "cell_type": "code",
   "execution_count": 10,
   "metadata": {},
   "outputs": [
    {
     "data": {
      "text/plain": [
       "array([[0.05144919],\n",
       "       [0.05635598],\n",
       "       [0.05633193],\n",
       "       ...,\n",
       "       [0.07398677],\n",
       "       [0.07420325],\n",
       "       [0.07304871]])"
      ]
     },
     "execution_count": 10,
     "metadata": {},
     "output_type": "execute_result"
    }
   ],
   "source": [
    "df1"
   ]
  },
  {
   "cell_type": "code",
   "execution_count": 11,
   "metadata": {},
   "outputs": [
    {
     "data": {
      "text/plain": [
       "(1258, 1)"
      ]
     },
     "execution_count": 11,
     "metadata": {},
     "output_type": "execute_result"
    }
   ],
   "source": [
    "df1.shape"
   ]
  },
  {
   "cell_type": "code",
   "execution_count": 12,
   "metadata": {},
   "outputs": [],
   "source": [
    "## spliting dataset into train and test split\n",
    "training_size = int(len(df1)*0.65)\n",
    "test_size = len(df1)-training_size\n",
    "train_data,test_data = df1[0:training_size,:],df1[training_size:len(df1),:1]"
   ]
  },
  {
   "cell_type": "code",
   "execution_count": 13,
   "metadata": {},
   "outputs": [
    {
     "data": {
      "text/plain": [
       "(817, 441)"
      ]
     },
     "execution_count": 13,
     "metadata": {},
     "output_type": "execute_result"
    }
   ],
   "source": [
    "training_size,test_size"
   ]
  },
  {
   "cell_type": "code",
   "execution_count": 14,
   "metadata": {},
   "outputs": [],
   "source": [
    "# convert an array of values into a dataset matrix\n",
    "def create_dataset(dataset, time_step=1):\n",
    "\tdataX, dataY = [], []\n",
    "\tfor i in range(len(dataset)-time_step-1):\n",
    "\t\ta = dataset[i:(i+time_step), 0]   ###i=0, 0,1,2,3-----99   100 \n",
    "\t\tdataX.append(a)\n",
    "\t\tdataY.append(dataset[i + time_step, 0])\n",
    "\treturn np.array(dataX), np.array(dataY)    "
   ]
  },
  {
   "cell_type": "code",
   "execution_count": 15,
   "metadata": {},
   "outputs": [],
   "source": [
    "# reshape into X=t,t+1,t+2,t+3 and Y=t+4\n",
    "time_step = 100\n",
    "X_train, y_train = create_dataset(train_data, time_step)\n",
    "X_test, ytest = create_dataset(test_data, time_step)"
   ]
  },
  {
   "cell_type": "code",
   "execution_count": 16,
   "metadata": {},
   "outputs": [
    {
     "name": "stdout",
     "output_type": "stream",
     "text": [
      "(716, 100)\n",
      "(716,)\n"
     ]
    },
    {
     "data": {
      "text/plain": [
       "(None, None)"
      ]
     },
     "execution_count": 16,
     "metadata": {},
     "output_type": "execute_result"
    }
   ],
   "source": [
    "print(X_train.shape), print(y_train.shape)"
   ]
  },
  {
   "cell_type": "code",
   "execution_count": 17,
   "metadata": {},
   "outputs": [
    {
     "name": "stdout",
     "output_type": "stream",
     "text": [
      "(340, 100)\n",
      "(340,)\n"
     ]
    },
    {
     "data": {
      "text/plain": [
       "(None, None)"
      ]
     },
     "execution_count": 17,
     "metadata": {},
     "output_type": "execute_result"
    }
   ],
   "source": [
    "print(X_test.shape), print(ytest.shape)"
   ]
  },
  {
   "cell_type": "code",
   "execution_count": 18,
   "metadata": {},
   "outputs": [],
   "source": [
    "# reshape input to be [samples, time steps, features] which is required for LSTM\n",
    "X_train =X_train.reshape(X_train.shape[0],X_train.shape[1] , 1)\n",
    "X_test = X_test.reshape(X_test.shape[0],X_test.shape[1] , 1)"
   ]
  },
  {
   "cell_type": "code",
   "execution_count": 20,
   "metadata": {},
   "outputs": [],
   "source": [
    "\n",
    "### Create the Stacked LSTM model\n",
    "from tensorflow.keras.models import Sequential\n",
    "from tensorflow.keras.layers import Dense\n",
    "from tensorflow.keras.layers import LSTM"
   ]
  },
  {
   "cell_type": "code",
   "execution_count": 21,
   "metadata": {},
   "outputs": [],
   "source": [
    "\n",
    "model=Sequential()\n",
    "model.add(LSTM(50,return_sequences=True,input_shape=(100,1)))\n",
    "model.add(LSTM(50,return_sequences=True))\n",
    "model.add(LSTM(50))\n",
    "model.add(Dense(1))\n",
    "model.compile(loss='mean_squared_error',optimizer='adam')"
   ]
  },
  {
   "cell_type": "code",
   "execution_count": 22,
   "metadata": {},
   "outputs": [
    {
     "name": "stdout",
     "output_type": "stream",
     "text": [
      "Model: \"sequential\"\n",
      "_________________________________________________________________\n",
      "Layer (type)                 Output Shape              Param #   \n",
      "=================================================================\n",
      "lstm (LSTM)                  (None, 100, 50)           10400     \n",
      "_________________________________________________________________\n",
      "lstm_1 (LSTM)                (None, 100, 50)           20200     \n",
      "_________________________________________________________________\n",
      "lstm_2 (LSTM)                (None, 50)                20200     \n",
      "_________________________________________________________________\n",
      "dense (Dense)                (None, 1)                 51        \n",
      "=================================================================\n",
      "Total params: 50,851\n",
      "Trainable params: 50,851\n",
      "Non-trainable params: 0\n",
      "_________________________________________________________________\n"
     ]
    }
   ],
   "source": [
    "model.summary()"
   ]
  },
  {
   "cell_type": "code",
   "execution_count": 23,
   "metadata": {},
   "outputs": [
    {
     "name": "stdout",
     "output_type": "stream",
     "text": [
      "Epoch 1/100\n",
      "12/12 [==============================] - 5s 382ms/step - loss: 0.0074 - val_loss: 0.0560\n",
      "Epoch 2/100\n",
      "12/12 [==============================] - 2s 179ms/step - loss: 0.0015 - val_loss: 0.0231\n",
      "Epoch 3/100\n",
      "12/12 [==============================] - 3s 213ms/step - loss: 5.9040e-04 - val_loss: 0.0211\n",
      "Epoch 4/100\n",
      "12/12 [==============================] - 3s 220ms/step - loss: 4.1257e-04 - val_loss: 0.0200\n",
      "Epoch 5/100\n",
      "12/12 [==============================] - 2s 190ms/step - loss: 3.9966e-04 - val_loss: 0.0195\n",
      "Epoch 6/100\n",
      "12/12 [==============================] - 2s 201ms/step - loss: 3.3890e-04 - val_loss: 0.0193\n",
      "Epoch 7/100\n",
      "12/12 [==============================] - 3s 251ms/step - loss: 3.2738e-04 - val_loss: 0.0192\n",
      "Epoch 8/100\n",
      "12/12 [==============================] - 3s 223ms/step - loss: 3.4081e-04 - val_loss: 0.0185\n",
      "Epoch 9/100\n",
      "12/12 [==============================] - 2s 203ms/step - loss: 3.1352e-04 - val_loss: 0.0172\n",
      "Epoch 10/100\n",
      "12/12 [==============================] - 2s 199ms/step - loss: 2.8256e-04 - val_loss: 0.0166\n",
      "Epoch 11/100\n",
      "12/12 [==============================] - 2s 203ms/step - loss: 2.5897e-04 - val_loss: 0.0161\n",
      "Epoch 12/100\n",
      "12/12 [==============================] - 2s 199ms/step - loss: 2.6369e-04 - val_loss: 0.0162\n",
      "Epoch 13/100\n",
      "12/12 [==============================] - 3s 215ms/step - loss: 2.4148e-04 - val_loss: 0.0163\n",
      "Epoch 14/100\n",
      "12/12 [==============================] - 2s 195ms/step - loss: 2.3391e-04 - val_loss: 0.0157\n",
      "Epoch 15/100\n",
      "12/12 [==============================] - 2s 204ms/step - loss: 2.1902e-04 - val_loss: 0.0165\n",
      "Epoch 16/100\n",
      "12/12 [==============================] - 3s 216ms/step - loss: 2.1037e-04 - val_loss: 0.0161\n",
      "Epoch 17/100\n",
      "12/12 [==============================] - 2s 198ms/step - loss: 2.4366e-04 - val_loss: 0.0168\n",
      "Epoch 18/100\n",
      "12/12 [==============================] - 2s 199ms/step - loss: 2.0071e-04 - val_loss: 0.0163\n",
      "Epoch 19/100\n",
      "12/12 [==============================] - 2s 200ms/step - loss: 1.9209e-04 - val_loss: 0.0160\n",
      "Epoch 20/100\n",
      "12/12 [==============================] - 2s 198ms/step - loss: 1.8861e-04 - val_loss: 0.0164\n",
      "Epoch 21/100\n",
      "12/12 [==============================] - 2s 199ms/step - loss: 2.0026e-04 - val_loss: 0.0157\n",
      "Epoch 22/100\n",
      "12/12 [==============================] - 2s 202ms/step - loss: 2.0046e-04 - val_loss: 0.0164\n",
      "Epoch 23/100\n",
      "12/12 [==============================] - 2s 200ms/step - loss: 2.1319e-04 - val_loss: 0.0158\n",
      "Epoch 24/100\n",
      "12/12 [==============================] - 2s 203ms/step - loss: 1.9423e-04 - val_loss: 0.0160\n",
      "Epoch 25/100\n",
      "12/12 [==============================] - 2s 205ms/step - loss: 1.8689e-04 - val_loss: 0.0166\n",
      "Epoch 26/100\n",
      "12/12 [==============================] - 2s 199ms/step - loss: 1.9172e-04 - val_loss: 0.0155\n",
      "Epoch 27/100\n",
      "12/12 [==============================] - 2s 201ms/step - loss: 1.7592e-04 - val_loss: 0.0155\n",
      "Epoch 28/100\n",
      "12/12 [==============================] - 2s 199ms/step - loss: 1.8500e-04 - val_loss: 0.0159\n",
      "Epoch 29/100\n",
      "12/12 [==============================] - 2s 196ms/step - loss: 1.8356e-04 - val_loss: 0.0161\n",
      "Epoch 30/100\n",
      "12/12 [==============================] - 2s 195ms/step - loss: 1.9603e-04 - val_loss: 0.0158\n",
      "Epoch 31/100\n",
      "12/12 [==============================] - 2s 197ms/step - loss: 1.7155e-04 - val_loss: 0.0157\n",
      "Epoch 32/100\n",
      "12/12 [==============================] - 2s 196ms/step - loss: 1.6920e-04 - val_loss: 0.0152\n",
      "Epoch 33/100\n",
      "12/12 [==============================] - 2s 195ms/step - loss: 1.7286e-04 - val_loss: 0.0152\n",
      "Epoch 34/100\n",
      "12/12 [==============================] - 3s 217ms/step - loss: 1.5684e-04 - val_loss: 0.0156\n",
      "Epoch 35/100\n",
      "12/12 [==============================] - 3s 271ms/step - loss: 1.5923e-04 - val_loss: 0.0152\n",
      "Epoch 36/100\n",
      "12/12 [==============================] - 3s 275ms/step - loss: 1.5936e-04 - val_loss: 0.0152\n",
      "Epoch 37/100\n",
      "12/12 [==============================] - 2s 206ms/step - loss: 1.7341e-04 - val_loss: 0.0148\n",
      "Epoch 38/100\n",
      "12/12 [==============================] - 4s 295ms/step - loss: 1.5516e-04 - val_loss: 0.0150\n",
      "Epoch 39/100\n",
      "12/12 [==============================] - 3s 229ms/step - loss: 1.7164e-04 - val_loss: 0.0144\n",
      "Epoch 40/100\n",
      "12/12 [==============================] - 2s 206ms/step - loss: 1.5261e-04 - val_loss: 0.0145\n",
      "Epoch 41/100\n",
      "12/12 [==============================] - 2s 196ms/step - loss: 1.4759e-04 - val_loss: 0.0144\n",
      "Epoch 42/100\n",
      "12/12 [==============================] - 2s 201ms/step - loss: 1.4880e-04 - val_loss: 0.0138\n",
      "Epoch 43/100\n",
      "12/12 [==============================] - 2s 201ms/step - loss: 1.5429e-04 - val_loss: 0.0136\n",
      "Epoch 44/100\n",
      "12/12 [==============================] - 2s 199ms/step - loss: 1.4724e-04 - val_loss: 0.0134\n",
      "Epoch 45/100\n",
      "12/12 [==============================] - 2s 200ms/step - loss: 1.6413e-04 - val_loss: 0.0150\n",
      "Epoch 46/100\n",
      "12/12 [==============================] - 2s 201ms/step - loss: 1.5182e-04 - val_loss: 0.0134\n",
      "Epoch 47/100\n",
      "12/12 [==============================] - 2s 200ms/step - loss: 1.5180e-04 - val_loss: 0.0138\n",
      "Epoch 48/100\n",
      "12/12 [==============================] - 2s 198ms/step - loss: 1.4459e-04 - val_loss: 0.0126\n",
      "Epoch 49/100\n",
      "12/12 [==============================] - 2s 194ms/step - loss: 1.3863e-04 - val_loss: 0.0127\n",
      "Epoch 50/100\n",
      "12/12 [==============================] - 2s 198ms/step - loss: 1.3972e-04 - val_loss: 0.0126\n",
      "Epoch 51/100\n",
      "12/12 [==============================] - 2s 199ms/step - loss: 1.4318e-04 - val_loss: 0.0120\n",
      "Epoch 52/100\n",
      "12/12 [==============================] - 2s 199ms/step - loss: 1.4747e-04 - val_loss: 0.0125\n",
      "Epoch 53/100\n",
      "12/12 [==============================] - 2s 197ms/step - loss: 1.7910e-04 - val_loss: 0.0116\n",
      "Epoch 54/100\n",
      "12/12 [==============================] - 2s 193ms/step - loss: 2.0146e-04 - val_loss: 0.0130\n",
      "Epoch 55/100\n",
      "12/12 [==============================] - 2s 196ms/step - loss: 1.5157e-04 - val_loss: 0.0120\n",
      "Epoch 56/100\n",
      "12/12 [==============================] - 2s 197ms/step - loss: 1.3089e-04 - val_loss: 0.0114\n",
      "Epoch 57/100\n",
      "12/12 [==============================] - 2s 197ms/step - loss: 1.4495e-04 - val_loss: 0.0107\n",
      "Epoch 58/100\n",
      "12/12 [==============================] - 2s 196ms/step - loss: 1.4052e-04 - val_loss: 0.0109\n",
      "Epoch 59/100\n",
      "12/12 [==============================] - 2s 200ms/step - loss: 1.2916e-04 - val_loss: 0.0119\n",
      "Epoch 60/100\n",
      "12/12 [==============================] - 2s 196ms/step - loss: 1.3169e-04 - val_loss: 0.0111\n",
      "Epoch 61/100\n",
      "12/12 [==============================] - 2s 198ms/step - loss: 1.3207e-04 - val_loss: 0.0101\n",
      "Epoch 62/100\n",
      "12/12 [==============================] - 2s 201ms/step - loss: 1.3039e-04 - val_loss: 0.0102\n",
      "Epoch 63/100\n",
      "12/12 [==============================] - 2s 203ms/step - loss: 1.4317e-04 - val_loss: 0.0109\n",
      "Epoch 64/100\n",
      "12/12 [==============================] - 3s 212ms/step - loss: 1.2226e-04 - val_loss: 0.0116\n",
      "Epoch 65/100\n",
      "12/12 [==============================] - 2s 197ms/step - loss: 1.2866e-04 - val_loss: 0.0096\n",
      "Epoch 66/100\n",
      "12/12 [==============================] - 2s 200ms/step - loss: 1.2348e-04 - val_loss: 0.0102\n",
      "Epoch 67/100\n",
      "12/12 [==============================] - 2s 200ms/step - loss: 1.2117e-04 - val_loss: 0.0094\n",
      "Epoch 68/100\n",
      "12/12 [==============================] - 2s 200ms/step - loss: 1.1514e-04 - val_loss: 0.0105\n",
      "Epoch 69/100\n",
      "12/12 [==============================] - 2s 198ms/step - loss: 1.1803e-04 - val_loss: 0.0108\n",
      "Epoch 70/100\n",
      "12/12 [==============================] - 2s 198ms/step - loss: 1.2390e-04 - val_loss: 0.0091\n",
      "Epoch 71/100\n",
      "12/12 [==============================] - 2s 197ms/step - loss: 1.4033e-04 - val_loss: 0.0090\n",
      "Epoch 72/100\n",
      "12/12 [==============================] - 2s 196ms/step - loss: 1.1494e-04 - val_loss: 0.0085\n",
      "Epoch 73/100\n",
      "12/12 [==============================] - 2s 204ms/step - loss: 1.1319e-04 - val_loss: 0.0089\n",
      "Epoch 74/100\n",
      "12/12 [==============================] - 2s 203ms/step - loss: 1.2347e-04 - val_loss: 0.0091\n",
      "Epoch 75/100\n",
      "12/12 [==============================] - 2s 198ms/step - loss: 1.1179e-04 - val_loss: 0.0096\n",
      "Epoch 76/100\n",
      "12/12 [==============================] - 2s 199ms/step - loss: 1.1408e-04 - val_loss: 0.0084\n",
      "Epoch 77/100\n",
      "12/12 [==============================] - 2s 196ms/step - loss: 1.2731e-04 - val_loss: 0.0091\n",
      "Epoch 78/100\n"
     ]
    },
    {
     "name": "stdout",
     "output_type": "stream",
     "text": [
      "12/12 [==============================] - 2s 193ms/step - loss: 1.1523e-04 - val_loss: 0.0101\n",
      "Epoch 79/100\n",
      "12/12 [==============================] - 2s 193ms/step - loss: 1.0688e-04 - val_loss: 0.0095\n",
      "Epoch 80/100\n",
      "12/12 [==============================] - 2s 194ms/step - loss: 1.0523e-04 - val_loss: 0.0094\n",
      "Epoch 81/100\n",
      "12/12 [==============================] - 2s 191ms/step - loss: 1.0580e-04 - val_loss: 0.0101\n",
      "Epoch 82/100\n",
      "12/12 [==============================] - 2s 192ms/step - loss: 1.0170e-04 - val_loss: 0.0084\n",
      "Epoch 83/100\n",
      "12/12 [==============================] - 2s 190ms/step - loss: 9.7230e-05 - val_loss: 0.0082\n",
      "Epoch 84/100\n",
      "12/12 [==============================] - 2s 189ms/step - loss: 1.0631e-04 - val_loss: 0.0091\n",
      "Epoch 85/100\n",
      "12/12 [==============================] - 2s 194ms/step - loss: 1.1447e-04 - val_loss: 0.0084\n",
      "Epoch 86/100\n",
      "12/12 [==============================] - 2s 197ms/step - loss: 9.7391e-05 - val_loss: 0.0076\n",
      "Epoch 87/100\n",
      "12/12 [==============================] - 2s 206ms/step - loss: 1.1476e-04 - val_loss: 0.0095\n",
      "Epoch 88/100\n",
      "12/12 [==============================] - 3s 212ms/step - loss: 1.0184e-04 - val_loss: 0.0077\n",
      "Epoch 89/100\n",
      "12/12 [==============================] - 2s 204ms/step - loss: 9.5442e-05 - val_loss: 0.0082\n",
      "Epoch 90/100\n",
      "12/12 [==============================] - 2s 203ms/step - loss: 9.5693e-05 - val_loss: 0.0090\n",
      "Epoch 91/100\n",
      "12/12 [==============================] - 2s 196ms/step - loss: 9.4892e-05 - val_loss: 0.0083\n",
      "Epoch 92/100\n",
      "12/12 [==============================] - 3s 209ms/step - loss: 8.9595e-05 - val_loss: 0.0094\n",
      "Epoch 93/100\n",
      "12/12 [==============================] - 3s 221ms/step - loss: 9.8621e-05 - val_loss: 0.0072\n",
      "Epoch 94/100\n",
      "12/12 [==============================] - 3s 210ms/step - loss: 9.0261e-05 - val_loss: 0.0081\n",
      "Epoch 95/100\n",
      "12/12 [==============================] - 3s 239ms/step - loss: 1.0217e-04 - val_loss: 0.0066\n",
      "Epoch 96/100\n",
      "12/12 [==============================] - 3s 272ms/step - loss: 9.6262e-05 - val_loss: 0.0090\n",
      "Epoch 97/100\n",
      "12/12 [==============================] - 2s 206ms/step - loss: 1.0186e-04 - val_loss: 0.0074\n",
      "Epoch 98/100\n",
      "12/12 [==============================] - 2s 192ms/step - loss: 1.0395e-04 - val_loss: 0.0066\n",
      "Epoch 99/100\n",
      "12/12 [==============================] - 2s 192ms/step - loss: 1.1408e-04 - val_loss: 0.0090\n",
      "Epoch 100/100\n",
      "12/12 [==============================] - 3s 213ms/step - loss: 1.2924e-04 - val_loss: 0.0080\n"
     ]
    },
    {
     "data": {
      "text/plain": [
       "<tensorflow.python.keras.callbacks.History at 0x2960c578eb0>"
      ]
     },
     "execution_count": 23,
     "metadata": {},
     "output_type": "execute_result"
    }
   ],
   "source": [
    "model.fit(X_train,y_train,validation_data=(X_test,ytest),epochs=100,batch_size=64,verbose=1)"
   ]
  },
  {
   "cell_type": "code",
   "execution_count": 24,
   "metadata": {},
   "outputs": [],
   "source": [
    "### Lets Do the prediction and check performance metrics\n",
    "train_predict=model.predict(X_train)\n",
    "test_predict=model.predict(X_test)"
   ]
  },
  {
   "cell_type": "code",
   "execution_count": 25,
   "metadata": {},
   "outputs": [],
   "source": [
    "##Transformback to original form\n",
    "train_predict=scaler.inverse_transform(train_predict)\n",
    "test_predict=scaler.inverse_transform(test_predict)"
   ]
  },
  {
   "cell_type": "code",
   "execution_count": 37,
   "metadata": {},
   "outputs": [],
   "source": [
    "day_new=np.arange(1,101)\n",
    "day_pred=np.arange(101,131)"
   ]
  },
  {
   "cell_type": "code",
   "execution_count": 38,
   "metadata": {},
   "outputs": [],
   "source": [
    "\n",
    "import matplotlib.pyplot as plt"
   ]
  },
  {
   "cell_type": "code",
   "execution_count": 39,
   "metadata": {},
   "outputs": [
    {
     "data": {
      "text/plain": [
       "1258"
      ]
     },
     "execution_count": 39,
     "metadata": {},
     "output_type": "execute_result"
    }
   ],
   "source": [
    "len(df1)"
   ]
  },
  {
   "cell_type": "code",
   "execution_count": 40,
   "metadata": {},
   "outputs": [
    {
     "data": {
      "text/plain": [
       "[<matplotlib.lines.Line2D at 0x2961b4d7670>]"
      ]
     },
     "execution_count": 40,
     "metadata": {},
     "output_type": "execute_result"
    },
    {
     "data": {
      "image/png": "[encoded data removed]",
      "text/plain": [
       "<Figure size 432x288 with 1 Axes>"
      ]
     },
     "metadata": {
      "needs_background": "light"
     },
     "output_type": "display_data"
    }
   ],
   "source": [
    "\n",
    "plt.plot(day_new,scaler.inverse_transform(df1[1158:]))\n",
    "plt.plot(day_pred,scaler.inverse_transform(lst_output))"
   ]
  },
  {
   "cell_type": "code",
   "execution_count": 41,
   "metadata": {},
   "outputs": [
    {
     "data": {
      "text/plain": [
       "[<matplotlib.lines.Line2D at 0x2961b23c5e0>]"
      ]
     },
     "execution_count": 41,
     "metadata": {},
     "output_type": "execute_result"
    },
    {
     "data": {
      "image/png": "[encoded data removed]",
      "text/plain": [
       "<Figure size 432x288 with 1 Axes>"
      ]
     },
     "metadata": {
      "needs_background": "light"
     },
     "output_type": "display_data"
    }
   ],
   "source": [
    "df3=df1.tolist()\n",
    "df3.extend(lst_output)\n",
    "plt.plot(df3[1200:])"
   ]
  },
  {
   "cell_type": "code",
   "execution_count": 42,
   "metadata": {},
   "outputs": [],
   "source": [
    "df3=scaler.inverse_transform(df3).tolist()"
   ]
  },
  {
   "cell_type": "code",
   "execution_count": 43,
   "metadata": {},
   "outputs": [
    {
     "data": {
      "text/plain": [
       "[<matplotlib.lines.Line2D at 0x2961b526460>]"
      ]
     },
     "execution_count": 43,
     "metadata": {},
     "output_type": "execute_result"
    },
    {
     "data": {
      "image/png": "[encoded data removed]",
      "text/plain": [
       "<Figure size 432x288 with 1 Axes>"
      ]
     },
     "metadata": {
      "needs_background": "light"
     },
     "output_type": "display_data"
    }
   ],
   "source": [
    "\n",
    "plt.plot(df3)"
   ]
  },
  {
   "cell_type": "code",
   "execution_count": null,
   "metadata": {},
   "outputs": [],
   "source": []
  }
 ],
 "metadata": {
  "kernelspec": {
   "display_name": "Python 3",
   "language": "python",
   "name": "python3"
  },
  "language_info": {
   "codemirror_mode": {
    "name": "ipython",
    "version": 3
   },
   "file_extension": ".py",
   "mimetype": "text/x-python",
   "name": "python",
   "nbconvert_exporter": "python",
   "pygments_lexer": "ipython3",
   "version": "3.8.3"
  }
 },
 "nbformat": 4,
 "nbformat_minor": 4
}
